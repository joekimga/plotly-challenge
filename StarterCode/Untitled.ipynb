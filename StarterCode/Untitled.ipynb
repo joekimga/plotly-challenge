{
 "cells": [
  {
   "cell_type": "code",
   "execution_count": 1,
   "metadata": {},
   "outputs": [
    {
     "ename": "SyntaxError",
     "evalue": "Unexpected identifier",
     "output_type": "error",
     "traceback": [
      "evalmachine.<anonymous>:1",
      "if definitions == somewhat correct,",
      "   ^^^^^^^^^^^",
      "",
      "SyntaxError: Unexpected identifier",
      "    at new Script (vm.js:100:7)",
      "    at createScript (vm.js:267:10)",
      "    at Object.runInThisContext (vm.js:315:10)",
      "    at run ([eval]:1054:15)",
      "    at onRunRequest ([eval]:888:18)",
      "    at onMessage ([eval]:848:13)",
      "    at process.emit (events.js:314:20)",
      "    at emit (internal/child_process.js:906:12)",
      "    at processTicksAndRejections (internal/process/task_queues.js:81:21)"
     ]
    }
   ],
   "source": [
    "if definitions == somewhat_correct,"
   ]
  },
  {
   "cell_type": "code",
   "execution_count": 2,
   "metadata": {},
   "outputs": [
    {
     "ename": "ReferenceError",
     "evalue": "definitions is not defined",
     "output_type": "error",
     "traceback": [
      "evalmachine.<anonymous>:1",
      "if (definitions == somewhat_correct) {",
      "^",
      "",
      "ReferenceError: definitions is not defined",
      "    at evalmachine.<anonymous>:1:1",
      "    at Script.runInThisContext (vm.js:132:18)",
      "    at Object.runInThisContext (vm.js:315:38)",
      "    at run ([eval]:1054:15)",
      "    at onRunRequest ([eval]:888:18)",
      "    at onMessage ([eval]:848:13)",
      "    at process.emit (events.js:314:20)",
      "    at emit (internal/child_process.js:906:12)",
      "    at processTicksAndRejections (internal/process/task_queues.js:81:21)"
     ]
    }
   ],
   "source": [
    "if (definitions == somewhat_correct) {\n",
    "  console.log (\"I sort of get it.\");\n",
    "} else {\n",
    "  alert (\"I'm skipping these classes and enjoy my sick days.  :smiley: \");\n",
    "}; "
   ]
  },
  {
   "cell_type": "code",
   "execution_count": null,
   "metadata": {},
   "outputs": [],
   "source": []
  }
 ],
 "metadata": {
  "kernelspec": {
   "display_name": "Javascript (Node.js)",
   "language": "javascript",
   "name": "javascript"
  },
  "language_info": {
   "file_extension": ".js",
   "mimetype": "application/javascript",
   "name": "javascript",
   "version": "14.8.0"
  }
 },
 "nbformat": 4,
 "nbformat_minor": 4
}
